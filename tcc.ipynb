{
 "cells": [
  {
   "cell_type": "code",
   "execution_count": 6,
   "id": "65f3dd33-33a9-4be3-a4e2-46d3f1f7fabf",
   "metadata": {},
   "outputs": [
    {
     "name": "stderr",
     "output_type": "stream",
     "text": [
      "2025-10-29 21:33:57.792416: I tensorflow/core/platform/cpu_feature_guard.cc:210] This TensorFlow binary is optimized to use available CPU instructions in performance-critical operations.\n",
      "To enable the following instructions: AVX2 FMA, in other operations, rebuild TensorFlow with the appropriate compiler flags.\n"
     ]
    }
   ],
   "source": [
    "import numpy as np\n",
    "import pandas as pd\n",
    "import yfinance as yf\n",
    "from sklearn.preprocessing import StandardScaler\n",
    "from sklearn.model_selection import train_test_split\n",
    "from tensorflow.keras.models import Sequential\n",
    "from tensorflow.keras.layers import Conv1D, Dense, Flatten, Dropout, LSTM\n",
    "from tensorflow.keras.optimizers import Adam\n",
    "from tensorflow.keras.metrics import AUC\n",
    "import matplotlib.pyplot as plt\n",
    "from tensorflow.keras.layers import BatchNormalization\n",
    "from tensorflow.keras.callbacks import EarlyStopping, ReduceLROnPlateau, ModelCheckpoint"
   ]
  },
  {
   "cell_type": "code",
   "execution_count": 42,
   "id": "7344e015-df8a-461b-b191-1d3ef67c3781",
   "metadata": {},
   "outputs": [
    {
     "name": "stderr",
     "output_type": "stream",
     "text": [
      "[*********************100%***********************]  1 of 1 completed"
     ]
    },
    {
     "name": "stdout",
     "output_type": "stream",
     "text": [
      "MultiIndex([('Adj Close', 'BTC-USD'),\n",
      "            (    'Close', 'BTC-USD'),\n",
      "            (     'High', 'BTC-USD'),\n",
      "            (      'Low', 'BTC-USD'),\n",
      "            (     'Open', 'BTC-USD'),\n",
      "            (   'Volume', 'BTC-USD')],\n",
      "           names=['Price', 'Ticker'])\n",
      "Price           Adj Close          Close           High            Low  \\\n",
      "Ticker            BTC-USD        BTC-USD        BTC-USD        BTC-USD   \n",
      "Date                                                                     \n",
      "2018-01-01   13657.200195   13657.200195   14112.200195   13154.700195   \n",
      "2018-01-02   14982.099609   14982.099609   15444.599609   13163.599609   \n",
      "2018-01-03   15201.000000   15201.000000   15572.799805   14844.500000   \n",
      "2018-01-04   15599.200195   15599.200195   15739.700195   14522.200195   \n",
      "2018-01-05   17429.500000   17429.500000   17705.199219   15202.799805   \n",
      "...                   ...            ...            ...            ...   \n",
      "2025-05-27  108994.640625  108994.640625  110744.210938  107609.554688   \n",
      "2025-05-28  107802.328125  107802.328125  109298.289062  106812.929688   \n",
      "2025-05-29  105641.757812  105641.757812  108910.046875  105374.398438   \n",
      "2025-05-30  103998.570312  103998.570312  106308.945312  103685.789062   \n",
      "2025-05-31  104638.093750  104638.093750  104927.101562  103136.117188   \n",
      "\n",
      "Price                Open       Volume  \n",
      "Ticker            BTC-USD      BTC-USD  \n",
      "Date                                    \n",
      "2018-01-01   14112.200195  10291200000  \n",
      "2018-01-02   13625.000000  16846600192  \n",
      "2018-01-03   14978.200195  16871900160  \n",
      "2018-01-04   15270.700195  21783199744  \n",
      "2018-01-05   15477.200195  23840899072  \n",
      "...                   ...          ...  \n",
      "2025-05-27  109440.406250  57450176272  \n",
      "2025-05-28  108992.171875  49155377493  \n",
      "2025-05-29  107795.570312  56022752042  \n",
      "2025-05-30  105646.210938  57655287183  \n",
      "2025-05-31  103994.718750  38997843858  \n",
      "\n",
      "[2708 rows x 6 columns]\n"
     ]
    },
    {
     "name": "stderr",
     "output_type": "stream",
     "text": [
      "\n"
     ]
    }
   ],
   "source": [
    "data = yf.download(\"BTC-USD\", start=start, end=end, auto_adjust=False)\n",
    "print(data.columns)\n",
    "print(data)\n"
   ]
  },
  {
   "cell_type": "code",
   "execution_count": 44,
   "id": "bc2b9425-0e4a-481f-afce-1357e595b6d4",
   "metadata": {},
   "outputs": [
    {
     "name": "stderr",
     "output_type": "stream",
     "text": [
      "[*********************100%***********************]  1 of 1 completed\n"
     ]
    },
    {
     "name": "stdout",
     "output_type": "stream",
     "text": [
      "Formato de X: (2143, 365, 14)\n",
      "Formato de y: (2143,)\n",
      "Classes: (array([0, 1]), array([1045, 1098]))\n",
      "Primeiras datas: [Timestamp('2019-07-19 00:00:00') Timestamp('2019-07-20 00:00:00')\n",
      " Timestamp('2019-07-21 00:00:00')]\n"
     ]
    }
   ],
   "source": [
    "import numpy as np\n",
    "import pandas as pd\n",
    "import yfinance as yf\n",
    "\n",
    "symbol = \"BTC-USD\" #\"EQTL3.SA\"\n",
    "start = \"2018-01-01\"\n",
    "end = \"2025-06-01\"\n",
    "window_size = 365\n",
    "threshold = 0.005  # 0.5% de variação para considerar alta/baixa\n",
    "\n",
    "# ============================================\n",
    "# 1. Download e limpeza inicial\n",
    "# ============================================\n",
    "data = yf.download(symbol, start=start, end=end, auto_adjust=False)\n",
    "\n",
    "# Se vier com MultiIndex, pega só o nome do preço (nível 0)\n",
    "if isinstance(data.columns, pd.MultiIndex):\n",
    "    data.columns = [col[0] for col in data.columns]\n",
    "\n",
    "# Agora deve ter colunas simples: ['Adj Close', 'Close', 'High', 'Low', 'Open', 'Volume']\n",
    "data = data[['Open', 'High', 'Low', 'Close', 'Volume']].copy()\n",
    "\n",
    "# ============================================\n",
    "# 2. Log-returns e datas\n",
    "# ============================================\n",
    "for col in ['Open', 'High', 'Low', 'Close']:\n",
    "    data[f'{col}_ret'] = np.log((data[col] / data[col].shift(1)).replace(0, np.nan))\n",
    "data['Volume_ret'] = np.log((data['Volume'] / data['Volume'].shift(1)).replace(0, np.nan))\n",
    "\n",
    "data['DayOfYear'] = data.index.dayofyear\n",
    "data['Month'] = data.index.month\n",
    "\n",
    "# ============================================\n",
    "# 3. Indicadores técnicos\n",
    "# ============================================\n",
    "data['EMA9']   = data['Close'].ewm(span=9, adjust=False).mean()\n",
    "data['SMA20']  = data['Close'].rolling(window=20).mean()\n",
    "data['SMA200'] = data['Close'].rolling(window=200).mean()\n",
    "\n",
    "# RSI\n",
    "delta = data['Close'].diff()\n",
    "gain = delta.clip(lower=0)\n",
    "loss = -delta.clip(upper=0)\n",
    "avg_gain = gain.rolling(window=14).mean()\n",
    "avg_loss = loss.rolling(window=14).mean()\n",
    "rs = avg_gain / avg_loss\n",
    "data['RSI'] = 100 - (100 / (1 + rs))\n",
    "\n",
    "# MACD\n",
    "ema12 = data['Close'].ewm(span=12, adjust=False).mean()\n",
    "ema26 = data['Close'].ewm(span=26, adjust=False).mean()\n",
    "data['MACD'] = ema12 - ema26\n",
    "data['MACD_signal'] = data['MACD'].ewm(span=9, adjust=False).mean()\n",
    "\n",
    "# Momentum (30 dias)\n",
    "data['Momentum'] = np.log(data['Close'] / data['Close'].shift(30))\n",
    "\n",
    "# ============================================\n",
    "# 4. Relações relativas e codificação temporal\n",
    "# ============================================\n",
    "data['Close_div_EMA9']   = data['Close'] / data['EMA9'] - 1\n",
    "data['Close_div_SMA20']  = data['Close'] / data['SMA20'] - 1\n",
    "data['Close_div_SMA200'] = data['Close'] / data['SMA200'] - 1\n",
    "\n",
    "data['sin_day'] = np.sin(2 * np.pi * data['DayOfYear'] / 365)\n",
    "data['cos_day'] = np.cos(2 * np.pi * data['DayOfYear'] / 365)\n",
    "\n",
    "# Normalização de MACD por volatilidade (rolling std)\n",
    "rolling_std = data['Close_ret'].rolling(window=60).std()\n",
    "data['MACD_norm'] = (data['MACD'] - data['MACD'].rolling(60).mean()) / (rolling_std + 1e-8)\n",
    "data['MACD_signal_norm'] = (data['MACD_signal'] - data['MACD_signal'].rolling(60).mean()) / (rolling_std + 1e-8)\n",
    "\n",
    "# ============================================\n",
    "# 5. Limpeza final\n",
    "# ============================================\n",
    "data = data.dropna()\n",
    "\n",
    "# ============================================\n",
    "# 6. Features finais e normalização\n",
    "# ============================================\n",
    "final_features = [\n",
    "    'Open_ret','High_ret','Low_ret','Close_ret','Volume_ret',\n",
    "    'Close_div_EMA9','Close_div_SMA20','Close_div_SMA200',\n",
    "    'RSI','Momentum','sin_day','cos_day','MACD_norm','MACD_signal_norm'\n",
    "]\n",
    "\n",
    "def rolling_normalize(X_window):\n",
    "    mu = X_window.mean(axis=0)\n",
    "    sigma = X_window.std(axis=0) + 1e-8\n",
    "    return (X_window - mu) / sigma\n",
    "\n",
    "# ============================================\n",
    "# 7. Construção das janelas (X, y)\n",
    "# ============================================\n",
    "X, y, window_dates = [], [], []\n",
    "data_values = data[final_features].values\n",
    "open_prices = data['Open'].values\n",
    "close_prices = data['Close'].values\n",
    "\n",
    "\n",
    "for i in range(window_size, len(data_values) - 1):\n",
    "    window = data_values[i - window_size:i]\n",
    "    window = rolling_normalize(window)\n",
    "    X.append(window)\n",
    "    \n",
    "    # Retorno futuro\n",
    "    future_ret = (close_prices[i + 1] - open_prices[i + 1]) / open_prices[i + 1]\n",
    "    if future_ret > threshold:\n",
    "        label = 1\n",
    "    elif future_ret < -threshold:\n",
    "        label = 0\n",
    "    \n",
    "    y.append(label)\n",
    "    window_dates.append(data.index[i])\n",
    "\n",
    "# ============================================\n",
    "# 8. Converter para numpy\n",
    "# ============================================\n",
    "X = np.array(X)\n",
    "y = np.array(y)\n",
    "window_dates = np.array(window_dates)\n",
    "\n",
    "print(\"Formato de X:\", X.shape)\n",
    "print(\"Formato de y:\", y.shape)\n",
    "print(\"Classes:\", np.unique(y, return_counts=True))\n",
    "print(\"Primeiras datas:\", window_dates[:3])\n"
   ]
  },
  {
   "cell_type": "code",
   "execution_count": 41,
   "id": "6c877e91-d230-44df-a91c-1640469f50cd",
   "metadata": {},
   "outputs": [
    {
     "name": "stdout",
     "output_type": "stream",
     "text": [
      "[ 2.15277786  2.16352441  2.15150527  2.08917205 -0.96019069  2.12038684\n",
      "  2.10813706  1.46128205 -0.00564164  1.34480743 -0.29127731]\n"
     ]
    },
    {
     "data": {
      "image/png": "[encoded data removed]",
      "text/plain": [
       "<Figure size 600x400 with 1 Axes>"
      ]
     },
     "metadata": {},
     "output_type": "display_data"
    }
   ],
   "source": [
    "# Normalização dos dados\n",
    "\"\"\"\n",
    "n_samples, n_timesteps, n_features = X.shape\n",
    "X_reshaped = X.reshape(-1, n_features)  # Achata para aplicar a normalização\n",
    "scaler = StandardScaler()\n",
    "X_scaled = scaler.fit_transform(X_reshaped)\n",
    "X = X_scaled.reshape(n_samples, n_timesteps, n_features)\n",
    "\n",
    "# Visualizando a distribuição dos rótulos\n",
    "plt.figure(figsize=(6,4))\n",
    "plt.hist(y, bins=2, edgecolor='k', align='mid')\n",
    "plt.xticks([0, 1])\n",
    "plt.title(\"Distribuição dos rótulos (0: queda, 1: alta)\")\n",
    "plt.xlabel(\"Rótulo\")\n",
    "plt.ylabel(\"Frequência\")\n",
    "plt.grid(True)\n",
    "#plt.show()\n",
    "print(X[-1][-1])  # primeira janela, primeira linha\n",
    "\"\"\""
   ]
  },
  {
   "cell_type": "code",
   "execution_count": 46,
   "id": "74459aec-8794-40f9-adf2-72dcbbc944af",
   "metadata": {},
   "outputs": [
    {
     "name": "stdout",
     "output_type": "stream",
     "text": [
      "365\n",
      "1\n"
     ]
    }
   ],
   "source": [
    "# Dividindo os dados em conjuntos de treinamento e teste\n",
    "X_train, X_test, y_train, y_test = train_test_split(X, y, test_size=0.2)\n",
    "n_features = len(final_features)\n",
    "print(len(X_train[0]))\n",
    "print(y_train[0])"
   ]
  },
  {
   "cell_type": "code",
   "execution_count": null,
   "id": "bba7b8f4-6a4a-4c7e-931e-9be6f3f59818",
   "metadata": {},
   "outputs": [],
   "source": [
    "\n",
    "# 4. Construção do modelo CNN 1D para múltiplas features\n",
    "\n",
    "from tensorflow.keras.layers import Dropout\n",
    "\n",
    "model = Sequential([\n",
    "    LSTM(128, return_sequences=True),\n",
    "    BatchNormalization(),\n",
    "    LSTM(64),\n",
    "    Dense(32, activation='relu'),\n",
    "    Dense(1, activation='sigmoid')\n",
    "])\n",
    "\n",
    "\n",
    "# Compilando o modelo\n",
    "model.compile(optimizer=Adam(), loss='binary_crossentropy', metrics=['accuracy'])\n",
    "model.summary()\n",
    "\n",
    "# 5. Treinamento do modelo\n",
    "history = model.fit(X_train, y_train, epochs=60, batch_size=32, validation_split=0.2)\n",
    "\n",
    "# Plot do histórico de treinamento\n",
    "plt.figure(figsize=(12,5))\n",
    "plt.subplot(1,2,1)\n",
    "plt.plot(history.history['loss'], label='Treino')\n",
    "plt.plot(history.history['val_loss'], label='Validação')\n",
    "plt.title(\"Histórico de Loss\")\n",
    "plt.xlabel(\"Época\")\n",
    "plt.ylabel(\"Loss\")\n",
    "plt.legend()\n",
    "plt.grid(True)\n",
    "\n",
    "plt.subplot(1,2,2)\n",
    "plt.plot(history.history['accuracy'], label='Treino')\n",
    "plt.plot(history.history['val_accuracy'], label='Validação')\n",
    "plt.title(\"Histórico de Acurácia\")\n",
    "plt.xlabel(\"Época\")\n",
    "plt.ylabel(\"Acurácia\")\n",
    "plt.legend()\n",
    "plt.grid(True)\n",
    "\n",
    "plt.tight_layout()\n",
    "plt.show()\n",
    "\n",
    "# 6. Avaliação do modelo no conjunto de teste\n",
    "loss, acc = model.evaluate(X_test, y_test)\n",
    "print(\"Acurácia no conjunto de teste:\", acc)"
   ]
  },
  {
   "cell_type": "code",
   "execution_count": null,
   "id": "ff261bf4-82bd-4fe0-9455-cd67fe5da9c6",
   "metadata": {},
   "outputs": [],
   "source": [
    "reduce_lr = ReduceLROnPlateau(\n",
    "    monitor='val_loss',\n",
    "    factor=0.8,       # redução suave\n",
    "    patience=20,      # espera mais antes de reduzir LR\n",
    "    min_lr=1e-7,\n",
    "    verbose=1\n",
    ")\n",
    "\n",
    "checkpoint = ModelCheckpoint(\n",
    "    'best_model.h5',\n",
    "    monitor='val_loss',\n",
    "    save_best_only=True,\n",
    "    verbose=1\n",
    ")\n",
    "\n",
    "callbacks = [reduce_lr, checkpoint]\n",
    "\n",
    "# --- Treinamento ---\n",
    "history = model.fit(\n",
    "    X_train, y_train,\n",
    "    validation_data=(X_test, y_test),\n",
    "    epochs=1,         # treino longo\n",
    "    batch_size=64,       # acelera e suaviza treino\n",
    "    callbacks=callbacks,\n",
    "    verbose=2            # menos poluição no log\n",
    ")"
   ]
  },
  {
   "cell_type": "code",
   "execution_count": 22,
   "id": "cfccc0d9-585e-4683-841b-52891f661e18",
   "metadata": {},
   "outputs": [
    {
     "name": "stdout",
     "output_type": "stream",
     "text": [
      "\u001b[1m10/10\u001b[0m \u001b[32m━━━━━━━━━━━━━━━━━━━━\u001b[0m\u001b[37m\u001b[0m \u001b[1m1s\u001b[0m 37ms/step\n",
      "Amostra 0: Probabilidade de alta = 0.52\n",
      "Amostra 1: Probabilidade de alta = 0.99\n",
      "Amostra 2: Probabilidade de alta = 1.00\n",
      "Amostra 3: Probabilidade de alta = 0.76\n",
      "Amostra 4: Probabilidade de alta = 0.60\n",
      "Sinais previstos (0: baixa, 1: alta) para os 5 primeiros exemplos: [1 1 1 1 1]\n"
     ]
    }
   ],
   "source": [
    "# Após o treinamento, para obter as probabilidades no conjunto de teste:\n",
    "predicted_probabilities = model.predict(X_test)\n",
    "\n",
    "# Exibir as probabilidades para os 5 primeiros exemplos:\n",
    "for i, prob in enumerate(predicted_probabilities[:5]):\n",
    "    print(f\"Amostra {i}: Probabilidade de alta = {prob[0]:.2f}\")\n",
    "    \n",
    "# Caso você queira converter para um sinal (subir/descender) utilizando um threshold de 0.5:\n",
    "predicted_signals = (predicted_probabilities.flatten() > 0.5).astype(int)\n",
    "print(\"Sinais previstos (0: baixa, 1: alta) para os 5 primeiros exemplos:\", predicted_signals[:5])\n"
   ]
  },
  {
   "cell_type": "code",
   "execution_count": 104,
   "id": "9c93ef2c-b09c-45f2-b7c9-29775491d865",
   "metadata": {},
   "outputs": [],
   "source": [
    "model.save(\"modelo_completo.keras\")\n"
   ]
  },
  {
   "cell_type": "code",
   "execution_count": 26,
   "id": "43d1caaf-87e2-44d2-bab3-df0d01cb3640",
   "metadata": {
    "scrolled": true
   },
   "outputs": [
    {
     "data": {
      "text/html": [
       "<pre style=\"white-space:pre;overflow-x:auto;line-height:normal;font-family:Menlo,'DejaVu Sans Mono',consolas,'Courier New',monospace\"><span style=\"font-weight: bold\">Model: \"sequential_1\"</span>\n",
       "</pre>\n"
      ],
      "text/plain": [
       "\u001b[1mModel: \"sequential_1\"\u001b[0m\n"
      ]
     },
     "metadata": {},
     "output_type": "display_data"
    },
    {
     "data": {
      "text/html": [
       "<pre style=\"white-space:pre;overflow-x:auto;line-height:normal;font-family:Menlo,'DejaVu Sans Mono',consolas,'Courier New',monospace\">┏━━━━━━━━━━━━━━━━━━━━━━━━━━━━━━━━━┳━━━━━━━━━━━━━━━━━━━━━━━━┳━━━━━━━━━━━━━━━┓\n",
       "┃<span style=\"font-weight: bold\"> Layer (type)                    </span>┃<span style=\"font-weight: bold\"> Output Shape           </span>┃<span style=\"font-weight: bold\">       Param # </span>┃\n",
       "┡━━━━━━━━━━━━━━━━━━━━━━━━━━━━━━━━━╇━━━━━━━━━━━━━━━━━━━━━━━━╇━━━━━━━━━━━━━━━┩\n",
       "│ conv1d_2 (<span style=\"color: #0087ff; text-decoration-color: #0087ff\">Conv1D</span>)               │ (<span style=\"color: #00d7ff; text-decoration-color: #00d7ff\">None</span>, <span style=\"color: #00af00; text-decoration-color: #00af00\">58</span>, <span style=\"color: #00af00; text-decoration-color: #00af00\">32</span>)         │           <span style=\"color: #00af00; text-decoration-color: #00af00\">416</span> │\n",
       "├─────────────────────────────────┼────────────────────────┼───────────────┤\n",
       "│ dropout_2 (<span style=\"color: #0087ff; text-decoration-color: #0087ff\">Dropout</span>)             │ (<span style=\"color: #00d7ff; text-decoration-color: #00d7ff\">None</span>, <span style=\"color: #00af00; text-decoration-color: #00af00\">58</span>, <span style=\"color: #00af00; text-decoration-color: #00af00\">32</span>)         │             <span style=\"color: #00af00; text-decoration-color: #00af00\">0</span> │\n",
       "├─────────────────────────────────┼────────────────────────┼───────────────┤\n",
       "│ lstm_1 (<span style=\"color: #0087ff; text-decoration-color: #0087ff\">LSTM</span>)                   │ (<span style=\"color: #00d7ff; text-decoration-color: #00d7ff\">None</span>, <span style=\"color: #00af00; text-decoration-color: #00af00\">64</span>)             │        <span style=\"color: #00af00; text-decoration-color: #00af00\">24,832</span> │\n",
       "├─────────────────────────────────┼────────────────────────┼───────────────┤\n",
       "│ dense_1 (<span style=\"color: #0087ff; text-decoration-color: #0087ff\">Dense</span>)                 │ (<span style=\"color: #00d7ff; text-decoration-color: #00d7ff\">None</span>, <span style=\"color: #00af00; text-decoration-color: #00af00\">1</span>)              │            <span style=\"color: #00af00; text-decoration-color: #00af00\">65</span> │\n",
       "└─────────────────────────────────┴────────────────────────┴───────────────┘\n",
       "</pre>\n"
      ],
      "text/plain": [
       "┏━━━━━━━━━━━━━━━━━━━━━━━━━━━━━━━━━┳━━━━━━━━━━━━━━━━━━━━━━━━┳━━━━━━━━━━━━━━━┓\n",
       "┃\u001b[1m \u001b[0m\u001b[1mLayer (type)                   \u001b[0m\u001b[1m \u001b[0m┃\u001b[1m \u001b[0m\u001b[1mOutput Shape          \u001b[0m\u001b[1m \u001b[0m┃\u001b[1m \u001b[0m\u001b[1m      Param #\u001b[0m\u001b[1m \u001b[0m┃\n",
       "┡━━━━━━━━━━━━━━━━━━━━━━━━━━━━━━━━━╇━━━━━━━━━━━━━━━━━━━━━━━━╇━━━━━━━━━━━━━━━┩\n",
       "│ conv1d_2 (\u001b[38;5;33mConv1D\u001b[0m)               │ (\u001b[38;5;45mNone\u001b[0m, \u001b[38;5;34m58\u001b[0m, \u001b[38;5;34m32\u001b[0m)         │           \u001b[38;5;34m416\u001b[0m │\n",
       "├─────────────────────────────────┼────────────────────────┼───────────────┤\n",
       "│ dropout_2 (\u001b[38;5;33mDropout\u001b[0m)             │ (\u001b[38;5;45mNone\u001b[0m, \u001b[38;5;34m58\u001b[0m, \u001b[38;5;34m32\u001b[0m)         │             \u001b[38;5;34m0\u001b[0m │\n",
       "├─────────────────────────────────┼────────────────────────┼───────────────┤\n",
       "│ lstm_1 (\u001b[38;5;33mLSTM\u001b[0m)                   │ (\u001b[38;5;45mNone\u001b[0m, \u001b[38;5;34m64\u001b[0m)             │        \u001b[38;5;34m24,832\u001b[0m │\n",
       "├─────────────────────────────────┼────────────────────────┼───────────────┤\n",
       "│ dense_1 (\u001b[38;5;33mDense\u001b[0m)                 │ (\u001b[38;5;45mNone\u001b[0m, \u001b[38;5;34m1\u001b[0m)              │            \u001b[38;5;34m65\u001b[0m │\n",
       "└─────────────────────────────────┴────────────────────────┴───────────────┘\n"
      ]
     },
     "metadata": {},
     "output_type": "display_data"
    },
    {
     "data": {
      "text/html": [
       "<pre style=\"white-space:pre;overflow-x:auto;line-height:normal;font-family:Menlo,'DejaVu Sans Mono',consolas,'Courier New',monospace\"><span style=\"font-weight: bold\"> Total params: </span><span style=\"color: #00af00; text-decoration-color: #00af00\">75,941</span> (296.65 KB)\n",
       "</pre>\n"
      ],
      "text/plain": [
       "\u001b[1m Total params: \u001b[0m\u001b[38;5;34m75,941\u001b[0m (296.65 KB)\n"
      ]
     },
     "metadata": {},
     "output_type": "display_data"
    },
    {
     "data": {
      "text/html": [
       "<pre style=\"white-space:pre;overflow-x:auto;line-height:normal;font-family:Menlo,'DejaVu Sans Mono',consolas,'Courier New',monospace\"><span style=\"font-weight: bold\"> Trainable params: </span><span style=\"color: #00af00; text-decoration-color: #00af00\">25,313</span> (98.88 KB)\n",
       "</pre>\n"
      ],
      "text/plain": [
       "\u001b[1m Trainable params: \u001b[0m\u001b[38;5;34m25,313\u001b[0m (98.88 KB)\n"
      ]
     },
     "metadata": {},
     "output_type": "display_data"
    },
    {
     "data": {
      "text/html": [
       "<pre style=\"white-space:pre;overflow-x:auto;line-height:normal;font-family:Menlo,'DejaVu Sans Mono',consolas,'Courier New',monospace\"><span style=\"font-weight: bold\"> Non-trainable params: </span><span style=\"color: #00af00; text-decoration-color: #00af00\">0</span> (0.00 B)\n",
       "</pre>\n"
      ],
      "text/plain": [
       "\u001b[1m Non-trainable params: \u001b[0m\u001b[38;5;34m0\u001b[0m (0.00 B)\n"
      ]
     },
     "metadata": {},
     "output_type": "display_data"
    },
    {
     "data": {
      "text/html": [
       "<pre style=\"white-space:pre;overflow-x:auto;line-height:normal;font-family:Menlo,'DejaVu Sans Mono',consolas,'Courier New',monospace\"><span style=\"font-weight: bold\"> Optimizer params: </span><span style=\"color: #00af00; text-decoration-color: #00af00\">50,628</span> (197.77 KB)\n",
       "</pre>\n"
      ],
      "text/plain": [
       "\u001b[1m Optimizer params: \u001b[0m\u001b[38;5;34m50,628\u001b[0m (197.77 KB)\n"
      ]
     },
     "metadata": {},
     "output_type": "display_data"
    },
    {
     "name": "stdout",
     "output_type": "stream",
     "text": [
      "\u001b[1m10/10\u001b[0m \u001b[32m━━━━━━━━━━━━━━━━━━━━\u001b[0m\u001b[37m\u001b[0m \u001b[1m0s\u001b[0m 11ms/step - accuracy: 0.4810 - loss: 1.6227\n",
      "Acurácia no conjunto de teste: 0.4810126721858978\n"
     ]
    }
   ],
   "source": [
    "model.summary()\n",
    "loss, acc = model.evaluate(X_test, y_test)\n",
    "print(\"Acurácia no conjunto de teste:\", acc)"
   ]
  },
  {
   "cell_type": "code",
   "execution_count": 108,
   "id": "b9a16683-917c-4782-9237-f137ba5bc680",
   "metadata": {},
   "outputs": [],
   "source": [
    "# from tensorflow.keras.utils import plot_model\n",
    "\n",
    "# plot_model(model, to_file='modelo.png', show_shapes=True, show_layer_names=True)\n"
   ]
  },
  {
   "cell_type": "code",
   "execution_count": null,
   "id": "948b862a-fb2e-4502-8f7c-24ae2d1882a3",
   "metadata": {},
   "outputs": [],
   "source": [
    "\n"
   ]
  },
  {
   "cell_type": "code",
   "execution_count": null,
   "id": "bb8db599-ffdc-454b-a050-2763598ec085",
   "metadata": {},
   "outputs": [],
   "source": []
  }
 ],
 "metadata": {
  "kernelspec": {
   "display_name": "Python [conda env:base] *",
   "language": "python",
   "name": "conda-base-py"
  },
  "language_info": {
   "codemirror_mode": {
    "name": "ipython",
    "version": 3
   },
   "file_extension": ".py",
   "mimetype": "text/x-python",
   "name": "python",
   "nbconvert_exporter": "python",
   "pygments_lexer": "ipython3",
   "version": "3.12.7"
  }
 },
 "nbformat": 4,
 "nbformat_minor": 5
}
