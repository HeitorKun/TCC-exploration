{
 "cells": [
  {
   "cell_type": "code",
   "execution_count": 2,
   "id": "55650163-382c-4712-89e3-0db9fae17b7b",
   "metadata": {},
   "outputs": [
    {
     "name": "stdout",
     "output_type": "stream",
     "text": [
      "Linear output (z): -0.5\n",
      "ReLU activation (a): 0.0\n",
      "Loss: 0.25\n",
      "Gradient with respect to z: -0.0\n",
      "Updated weight: 0.5\n",
      "Updated bias: -1.0\n"
     ]
    }
   ],
   "source": [
    "import numpy as np\n",
    "\n",
    "def relu(x):\n",
    "    return np.maximum(0, x)\n",
    "\n",
    "# Initialize a neuron's parameters\n",
    "w = 0.5\n",
    "b = -1.0\n",
    "\n",
    "# Example input and target value\n",
    "x = 1.0\n",
    "target = 0.5\n",
    "\n",
    "# Forward pass: compute the neuron's linear output\n",
    "z = w * x + b  # 0.5*1.0 - 1.0 = -0.5\n",
    "a = relu(z)    # ReLU outputs 0 for negative z\n",
    "\n",
    "print(\"Linear output (z):\", z)      # Output: -0.5\n",
    "print(\"ReLU activation (a):\", a)      # Output: 0\n",
    "\n",
    "# Suppose we use a simple squared error loss\n",
    "loss = (a - target) ** 2\n",
    "print(\"Loss:\", loss)\n",
    "\n",
    "# Backward pass: calculate the gradient.\n",
    "# The derivative of ReLU is 0 when z <= 0.\n",
    "relu_derivative = 1.0 if z > 0 else 0.0\n",
    "dL_da = 2 * (a - target)         # derivative of loss w.r.t activation\n",
    "dz = dL_da * relu_derivative     # chain rule: dL/dz\n",
    "\n",
    "print(\"Gradient with respect to z:\", dz)\n",
    "\n",
    "# Weight update (with a learning rate, lr)\n",
    "lr = 0.1\n",
    "w_new = w - lr * dz * x\n",
    "b_new = b - lr * dz\n",
    "\n",
    "print(\"Updated weight:\", w_new)\n",
    "print(\"Updated bias:\", b_new)\n"
   ]
  },
  {
   "cell_type": "code",
   "execution_count": null,
   "id": "fa45fe35-b62c-40a0-ada3-73f380517b44",
   "metadata": {},
   "outputs": [],
   "source": []
  }
 ],
 "metadata": {
  "kernelspec": {
   "display_name": "Python [conda env:base] *",
   "language": "python",
   "name": "conda-base-py"
  },
  "language_info": {
   "codemirror_mode": {
    "name": "ipython",
    "version": 3
   },
   "file_extension": ".py",
   "mimetype": "text/x-python",
   "name": "python",
   "nbconvert_exporter": "python",
   "pygments_lexer": "ipython3",
   "version": "3.12.7"
  }
 },
 "nbformat": 4,
 "nbformat_minor": 5
}
