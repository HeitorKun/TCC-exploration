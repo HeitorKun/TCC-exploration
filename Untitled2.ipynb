{
 "cells": [
  {
   "cell_type": "code",
   "execution_count": 11,
   "id": "53b9a83f-517b-4f99-866f-97dd87c2d5dd",
   "metadata": {},
   "outputs": [],
   "source": [
    "import yfinance as yf\n",
    "import pandas as pd\n",
    "import numpy as np\n",
    "import matplotlib.pyplot as plt\n"
   ]
  },
  {
   "cell_type": "code",
   "execution_count": 13,
   "id": "b1022fe5-a3b0-426b-8bbd-e0910de98a47",
   "metadata": {},
   "outputs": [],
   "source": [
    "\n",
    "def encontrar_topos_fundos(df, high_col='High', low_col='Low', open_col='Open', close_col='Close'):\n",
    "    \"\"\"\n",
    "    Identifica topos e fundos em um DataFrame de candles.\n",
    "    Retorna colunas extras 'Topo' e 'Fundo' marcando cada candle que for identificado como topo/fundo.\n",
    "    \n",
    "    Parâmetros:\n",
    "    -----------\n",
    "    df : pandas.DataFrame\n",
    "        DataFrame com colunas de candles (Open, High, Low, Close, etc.).\n",
    "    high_col : str\n",
    "        Nome da coluna que contém a máxima do candle.\n",
    "    low_col : str\n",
    "        Nome da coluna que contém a mínima do candle.\n",
    "    open_col : str\n",
    "        Nome da coluna que contém o preço de abertura do candle.\n",
    "    close_col : str\n",
    "        Nome da coluna que contém o preço de fechamento do candle.\n",
    "        \n",
    "    Retorno:\n",
    "    --------\n",
    "    df_out : pandas.DataFrame\n",
    "        Mesmo DataFrame de entrada com colunas extras:\n",
    "        'Topo': marcação (True/False)\n",
    "        'Fundo': marcação (True/False)\n",
    "    \"\"\"\n",
    "    \n",
    "    df_out = df.copy()\n",
    "    df_out['Topo'] = False\n",
    "    df_out['Fundo'] = False\n",
    "    \n",
    "    # Cria coluna \"Color\" para identificar se o candle é de alta (1), baixa (-1) ou neutro (0).\n",
    "    def candle_color(row):\n",
    "        if row[close_col] > row[open_col]:\n",
    "            return 1\n",
    "        elif row[close_col] < row[open_col]:\n",
    "            return -1\n",
    "        else:\n",
    "            return 0\n",
    "    \n",
    "    df_out['Color'] = df_out.apply(candle_color, axis=1)\n",
    "    \n",
    "    # Percorre do segundo até o penúltimo candle\n",
    "    for i in range(1, len(df_out) - 1):\n",
    "        prev_high = df_out.iloc[i-1][high_col]\n",
    "        prev_low = df_out.iloc[i-1][low_col]\n",
    "        curr_high = df_out.iloc[i][high_col]\n",
    "        curr_low = df_out.iloc[i][low_col]\n",
    "        next_high = df_out.iloc[i+1][high_col]\n",
    "        next_low = df_out.iloc[i+1][low_col]\n",
    "        \n",
    "        prev_color = df_out.iloc[i-1]['Color']\n",
    "        curr_color = df_out.iloc[i]['Color']\n",
    "        next_color = df_out.iloc[i+1]['Color']\n",
    "        \n",
    "        # --- Topo (pivô local) ---\n",
    "        if (curr_high > prev_high) and (curr_high > next_high):\n",
    "            # Exemplo simples de exigir candle de cor contrária (baixa) como confirmação\n",
    "            # (aqui, apenas verifica se vela anterior ou a próxima são vermelhas enquanto a atual é verde)\n",
    "            if ((prev_color == -1 and curr_color == 1) or\n",
    "                (next_color == -1 and curr_color == 1)):\n",
    "                df_out.at[df_out.index[i], 'Topo'] = True\n",
    "        \n",
    "        # --- Fundo (pivô local) ---\n",
    "        if (curr_low < prev_low) and (curr_low < next_low):\n",
    "            # Exemplo simples de exigir candle de cor contrária (alta) como confirmação\n",
    "            if ((prev_color == 1 and curr_color == -1) or\n",
    "                (next_color == 1 and curr_color == -1)):\n",
    "                df_out.at[df_out.index[i], 'Fundo'] = True\n",
    "    \n",
    "    return df_out\n"
   ]
  },
  {
   "cell_type": "code",
   "execution_count": 21,
   "id": "bd709e5e-71ec-485e-98f8-5ec6718ad5ba",
   "metadata": {},
   "outputs": [
    {
     "name": "stderr",
     "output_type": "stream",
     "text": [
      "[*********************100%***********************]  1 of 1 completed\n"
     ]
    }
   ],
   "source": [
    "\n",
    "\n",
    "\n",
    "    # Baixa dados da Apple para 1 ano (adjusted = True para ter preços ajustados por splits e dividendos)\n",
    "    df_aapl = yf.download(\"AAPL\", period=\"1y\", auto_adjust=True)\n",
    "    "
   ]
  },
  {
   "cell_type": "code",
   "execution_count": 23,
   "id": "6a1c6045-8dcf-4bb5-9a9d-0fce577992a4",
   "metadata": {},
   "outputs": [
    {
     "ename": "SyntaxError",
     "evalue": "'[' was never closed (2950984082.py, line 18)",
     "output_type": "error",
     "traceback": [
      "\u001b[0;36m  Cell \u001b[0;32mIn[23], line 18\u001b[0;36m\u001b[0m\n\u001b[0;31m    df_fundos = df_result[df_result['Fundo'] == True\u001b[0m\n\u001b[0m                         ^\u001b[0m\n\u001b[0;31mSyntaxError\u001b[0m\u001b[0;31m:\u001b[0m '[' was never closed\n"
     ]
    }
   ],
   "source": [
    "\n",
    "# Caso queira renomear colunas ou verificar quais colunas existem:\n",
    "# df_aapl.columns -> Index(['Open', 'High', 'Low', 'Close', 'Volume'], dtype='object')\n",
    "    \n",
    "# Identifica topos e fundos (usando nossas colunas: 'Open', 'High', 'Low', 'Close')\n",
    "df_result = encontrar_topos_fundos(df_aapl)\n",
    "    \n",
    "# Prepara o plot\n",
    "plt.figure()\n",
    "    \n",
    "# Plota a linha do preço de fechamento\n",
    "plt.plot(df_result.index, df_result['Close'], label='Close')\n",
    "    \n",
    "# Marca os topos\n",
    "df_topos = df_result[df_result['Topo'] == True]\n",
    "plt.scatter(df_topos.index, df_topos['Close'], marker='^', label='Topos')\n",
    "    \n",
    "# Marca os fundos\n",
    "df_fundos = df_result[df_result['Fundo'] == True\n",
    "plt.scatter(df_fundos.index, df_fundos['Close'], marker='v', label='Fundos')\n",
    "    \n",
    "plt.legend()\n",
    "plt.title('Identificação de Topos e Fundos - Apple (AAPL)')\n",
    "plt.xlabel('Data')\n",
    "plt.ylabel('Preço de Fechamento')\n",
    "plt.show()\n",
    "    \n",
    "# Exibe algumas linhas do resultado no console\n",
    "print(df_result[['Open', 'High', 'Low', 'Close', 'Topo', 'Fundo']].tail(15))\n"
   ]
  },
  {
   "cell_type": "code",
   "execution_count": null,
   "id": "63a39c99-140f-4578-bedb-baefe1798f74",
   "metadata": {},
   "outputs": [],
   "source": []
  },
  {
   "cell_type": "code",
   "execution_count": 30,
   "id": "219aa17a-f621-4735-bae8-592ce905c209",
   "metadata": {},
   "outputs": [
    {
     "name": "stderr",
     "output_type": "stream",
     "text": [
      "[*********************100%***********************]  1 of 1 completed\n"
     ]
    },
    {
     "ename": "ValueError",
     "evalue": "Operands are not aligned. Do `left, right = left.align(right, axis=1, copy=False)` before operating.",
     "output_type": "error",
     "traceback": [
      "\u001b[0;31m---------------------------------------------------------------------------\u001b[0m",
      "\u001b[0;31mValueError\u001b[0m                                Traceback (most recent call last)",
      "\u001b[0;32m/var/folders/x7/x9b_nqrs1sz1kzxcbnc_glkh0000gn/T/ipykernel_8765/2435814208.py\u001b[0m in \u001b[0;36m?\u001b[0;34m()\u001b[0m\n\u001b[1;32m     30\u001b[0m \u001b[0;34m\u001b[0m\u001b[0m\n\u001b[1;32m     31\u001b[0m \u001b[0mdf\u001b[0m\u001b[0;34m[\u001b[0m\u001b[0;34m'Previous'\u001b[0m\u001b[0;34m]\u001b[0m \u001b[0;34m=\u001b[0m \u001b[0mdf\u001b[0m\u001b[0;34m[\u001b[0m\u001b[0;34m'Close'\u001b[0m\u001b[0;34m]\u001b[0m\u001b[0;34m.\u001b[0m\u001b[0mshift\u001b[0m\u001b[0;34m(\u001b[0m\u001b[0;36m1\u001b[0m\u001b[0;34m)\u001b[0m\u001b[0;34m\u001b[0m\u001b[0;34m\u001b[0m\u001b[0m\n\u001b[1;32m     32\u001b[0m \u001b[0mdf\u001b[0m\u001b[0;34m[\u001b[0m\u001b[0;34m'Next'\u001b[0m\u001b[0;34m]\u001b[0m     \u001b[0;34m=\u001b[0m \u001b[0mdf\u001b[0m\u001b[0;34m[\u001b[0m\u001b[0;34m'Close'\u001b[0m\u001b[0;34m]\u001b[0m\u001b[0;34m.\u001b[0m\u001b[0mshift\u001b[0m\u001b[0;34m(\u001b[0m\u001b[0;34m-\u001b[0m\u001b[0;36m1\u001b[0m\u001b[0;34m)\u001b[0m\u001b[0;34m\u001b[0m\u001b[0;34m\u001b[0m\u001b[0m\n\u001b[1;32m     33\u001b[0m \u001b[0;34m\u001b[0m\u001b[0m\n\u001b[0;32m---> 34\u001b[0;31m \u001b[0mdf\u001b[0m\u001b[0;34m[\u001b[0m\u001b[0;34m'IsPeak'\u001b[0m\u001b[0;34m]\u001b[0m   \u001b[0;34m=\u001b[0m \u001b[0;34m(\u001b[0m\u001b[0mdf\u001b[0m\u001b[0;34m[\u001b[0m\u001b[0;34m'Close'\u001b[0m\u001b[0;34m]\u001b[0m \u001b[0;34m>\u001b[0m \u001b[0mdf\u001b[0m\u001b[0;34m[\u001b[0m\u001b[0;34m'Previous'\u001b[0m\u001b[0;34m]\u001b[0m\u001b[0;34m)\u001b[0m \u001b[0;34m&\u001b[0m \u001b[0;34m(\u001b[0m\u001b[0mdf\u001b[0m\u001b[0;34m[\u001b[0m\u001b[0;34m'Close'\u001b[0m\u001b[0;34m]\u001b[0m \u001b[0;34m>\u001b[0m \u001b[0mdf\u001b[0m\u001b[0;34m[\u001b[0m\u001b[0;34m'Next'\u001b[0m\u001b[0;34m]\u001b[0m\u001b[0;34m)\u001b[0m\u001b[0;34m\u001b[0m\u001b[0;34m\u001b[0m\u001b[0m\n\u001b[0m\u001b[1;32m     35\u001b[0m \u001b[0mdf\u001b[0m\u001b[0;34m[\u001b[0m\u001b[0;34m'IsTrough'\u001b[0m\u001b[0;34m]\u001b[0m \u001b[0;34m=\u001b[0m \u001b[0;34m(\u001b[0m\u001b[0mdf\u001b[0m\u001b[0;34m[\u001b[0m\u001b[0;34m'Close'\u001b[0m\u001b[0;34m]\u001b[0m \u001b[0;34m<\u001b[0m \u001b[0mdf\u001b[0m\u001b[0;34m[\u001b[0m\u001b[0;34m'Previous'\u001b[0m\u001b[0;34m]\u001b[0m\u001b[0;34m)\u001b[0m \u001b[0;34m&\u001b[0m \u001b[0;34m(\u001b[0m\u001b[0mdf\u001b[0m\u001b[0;34m[\u001b[0m\u001b[0;34m'Close'\u001b[0m\u001b[0;34m]\u001b[0m \u001b[0;34m<\u001b[0m \u001b[0mdf\u001b[0m\u001b[0;34m[\u001b[0m\u001b[0;34m'Next'\u001b[0m\u001b[0;34m]\u001b[0m\u001b[0;34m)\u001b[0m\u001b[0;34m\u001b[0m\u001b[0;34m\u001b[0m\u001b[0m\n\u001b[1;32m     36\u001b[0m \u001b[0;34m\u001b[0m\u001b[0m\n\u001b[1;32m     37\u001b[0m \u001b[0;31m# Get the actual index of peaks/troughs\u001b[0m\u001b[0;34m\u001b[0m\u001b[0;34m\u001b[0m\u001b[0m\n",
      "\u001b[0;32m/opt/anaconda3/lib/python3.12/site-packages/pandas/core/ops/common.py\u001b[0m in \u001b[0;36m?\u001b[0;34m(self, other)\u001b[0m\n\u001b[1;32m     72\u001b[0m                     \u001b[0;32mreturn\u001b[0m \u001b[0mNotImplemented\u001b[0m\u001b[0;34m\u001b[0m\u001b[0;34m\u001b[0m\u001b[0m\n\u001b[1;32m     73\u001b[0m \u001b[0;34m\u001b[0m\u001b[0m\n\u001b[1;32m     74\u001b[0m         \u001b[0mother\u001b[0m \u001b[0;34m=\u001b[0m \u001b[0mitem_from_zerodim\u001b[0m\u001b[0;34m(\u001b[0m\u001b[0mother\u001b[0m\u001b[0;34m)\u001b[0m\u001b[0;34m\u001b[0m\u001b[0;34m\u001b[0m\u001b[0m\n\u001b[1;32m     75\u001b[0m \u001b[0;34m\u001b[0m\u001b[0m\n\u001b[0;32m---> 76\u001b[0;31m         \u001b[0;32mreturn\u001b[0m \u001b[0mmethod\u001b[0m\u001b[0;34m(\u001b[0m\u001b[0mself\u001b[0m\u001b[0;34m,\u001b[0m \u001b[0mother\u001b[0m\u001b[0;34m)\u001b[0m\u001b[0;34m\u001b[0m\u001b[0;34m\u001b[0m\u001b[0m\n\u001b[0m",
      "\u001b[0;32m/opt/anaconda3/lib/python3.12/site-packages/pandas/core/arraylike.py\u001b[0m in \u001b[0;36m?\u001b[0;34m(self, other)\u001b[0m\n\u001b[1;32m     54\u001b[0m     \u001b[0;34m@\u001b[0m\u001b[0munpack_zerodim_and_defer\u001b[0m\u001b[0;34m(\u001b[0m\u001b[0;34m\"__gt__\"\u001b[0m\u001b[0;34m)\u001b[0m\u001b[0;34m\u001b[0m\u001b[0;34m\u001b[0m\u001b[0m\n\u001b[1;32m     55\u001b[0m     \u001b[0;32mdef\u001b[0m \u001b[0m__gt__\u001b[0m\u001b[0;34m(\u001b[0m\u001b[0mself\u001b[0m\u001b[0;34m,\u001b[0m \u001b[0mother\u001b[0m\u001b[0;34m)\u001b[0m\u001b[0;34m:\u001b[0m\u001b[0;34m\u001b[0m\u001b[0;34m\u001b[0m\u001b[0m\n\u001b[0;32m---> 56\u001b[0;31m         \u001b[0;32mreturn\u001b[0m \u001b[0mself\u001b[0m\u001b[0;34m.\u001b[0m\u001b[0m_cmp_method\u001b[0m\u001b[0;34m(\u001b[0m\u001b[0mother\u001b[0m\u001b[0;34m,\u001b[0m \u001b[0moperator\u001b[0m\u001b[0;34m.\u001b[0m\u001b[0mgt\u001b[0m\u001b[0;34m)\u001b[0m\u001b[0;34m\u001b[0m\u001b[0;34m\u001b[0m\u001b[0m\n\u001b[0m",
      "\u001b[0;32m/opt/anaconda3/lib/python3.12/site-packages/pandas/core/frame.py\u001b[0m in \u001b[0;36m?\u001b[0;34m(self, other, op)\u001b[0m\n\u001b[1;32m   7894\u001b[0m     \u001b[0;32mdef\u001b[0m \u001b[0m_cmp_method\u001b[0m\u001b[0;34m(\u001b[0m\u001b[0mself\u001b[0m\u001b[0;34m,\u001b[0m \u001b[0mother\u001b[0m\u001b[0;34m,\u001b[0m \u001b[0mop\u001b[0m\u001b[0;34m)\u001b[0m\u001b[0;34m:\u001b[0m\u001b[0;34m\u001b[0m\u001b[0;34m\u001b[0m\u001b[0m\n\u001b[1;32m   7895\u001b[0m         \u001b[0maxis\u001b[0m\u001b[0;34m:\u001b[0m \u001b[0mLiteral\u001b[0m\u001b[0;34m[\u001b[0m\u001b[0;36m1\u001b[0m\u001b[0;34m]\u001b[0m \u001b[0;34m=\u001b[0m \u001b[0;36m1\u001b[0m  \u001b[0;31m# only relevant for Series other case\u001b[0m\u001b[0;34m\u001b[0m\u001b[0;34m\u001b[0m\u001b[0m\n\u001b[1;32m   7896\u001b[0m \u001b[0;34m\u001b[0m\u001b[0m\n\u001b[0;32m-> 7897\u001b[0;31m         \u001b[0mself\u001b[0m\u001b[0;34m,\u001b[0m \u001b[0mother\u001b[0m \u001b[0;34m=\u001b[0m \u001b[0mself\u001b[0m\u001b[0;34m.\u001b[0m\u001b[0m_align_for_op\u001b[0m\u001b[0;34m(\u001b[0m\u001b[0mother\u001b[0m\u001b[0;34m,\u001b[0m \u001b[0maxis\u001b[0m\u001b[0;34m,\u001b[0m \u001b[0mflex\u001b[0m\u001b[0;34m=\u001b[0m\u001b[0;32mFalse\u001b[0m\u001b[0;34m,\u001b[0m \u001b[0mlevel\u001b[0m\u001b[0;34m=\u001b[0m\u001b[0;32mNone\u001b[0m\u001b[0;34m)\u001b[0m\u001b[0;34m\u001b[0m\u001b[0;34m\u001b[0m\u001b[0m\n\u001b[0m\u001b[1;32m   7898\u001b[0m \u001b[0;34m\u001b[0m\u001b[0m\n\u001b[1;32m   7899\u001b[0m         \u001b[0;31m# See GH#4537 for discussion of scalar op behavior\u001b[0m\u001b[0;34m\u001b[0m\u001b[0;34m\u001b[0m\u001b[0m\n\u001b[1;32m   7900\u001b[0m         \u001b[0mnew_data\u001b[0m \u001b[0;34m=\u001b[0m \u001b[0mself\u001b[0m\u001b[0;34m.\u001b[0m\u001b[0m_dispatch_frame_op\u001b[0m\u001b[0;34m(\u001b[0m\u001b[0mother\u001b[0m\u001b[0;34m,\u001b[0m \u001b[0mop\u001b[0m\u001b[0;34m,\u001b[0m \u001b[0maxis\u001b[0m\u001b[0;34m=\u001b[0m\u001b[0maxis\u001b[0m\u001b[0;34m)\u001b[0m\u001b[0;34m\u001b[0m\u001b[0;34m\u001b[0m\u001b[0m\n",
      "\u001b[0;32m/opt/anaconda3/lib/python3.12/site-packages/pandas/core/frame.py\u001b[0m in \u001b[0;36m?\u001b[0;34m(self, other, axis, flex, level)\u001b[0m\n\u001b[1;32m   8201\u001b[0m             \u001b[0;31m# axis=1 is default for DataFrame-with-Series op\u001b[0m\u001b[0;34m\u001b[0m\u001b[0;34m\u001b[0m\u001b[0m\n\u001b[1;32m   8202\u001b[0m             \u001b[0maxis\u001b[0m \u001b[0;34m=\u001b[0m \u001b[0maxis\u001b[0m \u001b[0;32mif\u001b[0m \u001b[0maxis\u001b[0m \u001b[0;32mis\u001b[0m \u001b[0;32mnot\u001b[0m \u001b[0;32mNone\u001b[0m \u001b[0;32melse\u001b[0m \u001b[0;36m1\u001b[0m\u001b[0;34m\u001b[0m\u001b[0;34m\u001b[0m\u001b[0m\n\u001b[1;32m   8203\u001b[0m             \u001b[0;32mif\u001b[0m \u001b[0;32mnot\u001b[0m \u001b[0mflex\u001b[0m\u001b[0;34m:\u001b[0m\u001b[0;34m\u001b[0m\u001b[0;34m\u001b[0m\u001b[0m\n\u001b[1;32m   8204\u001b[0m                 \u001b[0;32mif\u001b[0m \u001b[0;32mnot\u001b[0m \u001b[0mleft\u001b[0m\u001b[0;34m.\u001b[0m\u001b[0maxes\u001b[0m\u001b[0;34m[\u001b[0m\u001b[0maxis\u001b[0m\u001b[0;34m]\u001b[0m\u001b[0;34m.\u001b[0m\u001b[0mequals\u001b[0m\u001b[0;34m(\u001b[0m\u001b[0mright\u001b[0m\u001b[0;34m.\u001b[0m\u001b[0mindex\u001b[0m\u001b[0;34m)\u001b[0m\u001b[0;34m:\u001b[0m\u001b[0;34m\u001b[0m\u001b[0;34m\u001b[0m\u001b[0m\n\u001b[0;32m-> 8205\u001b[0;31m                     raise ValueError(\n\u001b[0m\u001b[1;32m   8206\u001b[0m                         \u001b[0;34m\"Operands are not aligned. Do \"\u001b[0m\u001b[0;34m\u001b[0m\u001b[0;34m\u001b[0m\u001b[0m\n\u001b[1;32m   8207\u001b[0m                         \u001b[0;34m\"`left, right = left.align(right, axis=1, copy=False)` \"\u001b[0m\u001b[0;34m\u001b[0m\u001b[0;34m\u001b[0m\u001b[0m\n\u001b[1;32m   8208\u001b[0m                         \u001b[0;34m\"before operating.\"\u001b[0m\u001b[0;34m\u001b[0m\u001b[0;34m\u001b[0m\u001b[0m\n",
      "\u001b[0;31mValueError\u001b[0m: Operands are not aligned. Do `left, right = left.align(right, axis=1, copy=False)` before operating."
     ]
    }
   ],
   "source": [
    "import yfinance as yf\n",
    "import pandas as pd\n",
    "import numpy as np\n",
    "import matplotlib.pyplot as plt\n",
    "\n",
    "# ------------------------------------------------------------\n",
    "# 1. Download Apple stock data using yfinance\n",
    "# ------------------------------------------------------------\n",
    "# Install yfinance if necessary:\n",
    "#   pip install yfinance\n",
    "#\n",
    "# You can adjust the date range to your needs\n",
    "ticker_symbol = \"AAPL\"\n",
    "start_date = \"2021-01-01\"\n",
    "end_date = \"2022-01-01\"\n",
    "\n",
    "df = yf.download(ticker_symbol, start=start_date, end=end_date)\n",
    "\n",
    "# Keep only the 'Close' price for simplicity\n",
    "df = df[['Close']].dropna()\n",
    "\n",
    "# ------------------------------------------------------------\n",
    "# 2. Find local peaks and troughs\n",
    "# ------------------------------------------------------------\n",
    "# A naive way to identify a local peak at day i:\n",
    "#   Close[i] > Close[i-1] and Close[i] > Close[i+1]\n",
    "# Similarly, a local trough at day i:\n",
    "#   Close[i] < Close[i-1] and Close[i] < Close[i+1]\n",
    "# We'll skip the first and last points to avoid index errors\n",
    "\n",
    "df['Previous'] = df['Close'].shift(1)\n",
    "df['Next']     = df['Close'].shift(-1)\n",
    "\n",
    "df['IsPeak']   = (df['Close'] > df['Previous']) & (df['Close'] > df['Next'])\n",
    "df['IsTrough'] = (df['Close'] < df['Previous']) & (df['Close'] < df['Next'])\n",
    "\n",
    "# Get the actual index of peaks/troughs\n",
    "peaks   = df[df['IsPeak']]\n",
    "troughs = df[df['IsTrough']]\n",
    "\n",
    "# ------------------------------------------------------------\n",
    "# 3. Plot the results\n",
    "# ------------------------------------------------------------\n",
    "plt.figure(figsize=(10, 6))\n",
    "plt.plot(df.index, df['Close'], label='Apple Close Price')\n",
    "\n",
    "# Mark peaks\n",
    "plt.scatter(peaks.index, peaks['Close'], marker='^', label='Peaks')\n",
    "\n",
    "# Mark troughs\n",
    "plt.scatter(troughs.index, troughs['Close'], marker='v', label='Troughs')\n",
    "\n",
    "plt.xlabel('Date')\n",
    "plt.ylabel('Price (USD)')\n",
    "plt.title(f'Apple (AAPL) Stock Peaks and Troughs')\n",
    "plt.legend()\n",
    "plt.show()\n",
    "\n"
   ]
  },
  {
   "cell_type": "code",
   "execution_count": null,
   "id": "f97a381d-3556-4d8a-aa17-6671b09d5547",
   "metadata": {},
   "outputs": [],
   "source": []
  }
 ],
 "metadata": {
  "kernelspec": {
   "display_name": "Python [conda env:base] *",
   "language": "python",
   "name": "conda-base-py"
  },
  "language_info": {
   "codemirror_mode": {
    "name": "ipython",
    "version": 3
   },
   "file_extension": ".py",
   "mimetype": "text/x-python",
   "name": "python",
   "nbconvert_exporter": "python",
   "pygments_lexer": "ipython3",
   "version": "3.12.7"
  }
 },
 "nbformat": 4,
 "nbformat_minor": 5
}
